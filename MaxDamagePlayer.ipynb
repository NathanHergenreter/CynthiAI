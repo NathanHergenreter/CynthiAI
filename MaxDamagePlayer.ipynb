{
 "cells": [
  {
   "cell_type": "code",
   "execution_count": 1,
   "id": "97b342ab",
   "metadata": {},
   "outputs": [],
   "source": [
    "import asyncio\n",
    "import time\n",
    "\n",
    "from poke_env.player.player import Player\n",
    "from poke_env.player.random_player import RandomPlayer"
   ]
  },
  {
   "cell_type": "code",
   "execution_count": 2,
   "id": "a23e6979",
   "metadata": {},
   "outputs": [],
   "source": [
    "class MaxDamagePlayer(Player):\n",
    "    def choose_move(self, battle):\n",
    "        # If the player can attack, it will\n",
    "        if battle.available_moves:\n",
    "            # Finds the best move among available ones\n",
    "            best_move = max(battle.available_moves, key=lambda move: move.base_power)\n",
    "            return self.create_order(best_move)\n",
    "\n",
    "        # If no attack is available, a random switch will be made\n",
    "        else:\n",
    "            return self.choose_random_move(battle)"
   ]
  },
  {
   "cell_type": "code",
   "execution_count": 3,
   "id": "a4490aca",
   "metadata": {},
   "outputs": [],
   "source": [
    "async def main():\n",
    "    start = time.time()\n",
    "\n",
    "    # We create two players.\n",
    "    random_player = RandomPlayer(\n",
    "        battle_format=\"gen8randombattle\",\n",
    "    )\n",
    "    max_damage_player = MaxDamagePlayer(\n",
    "        battle_format=\"gen8randombattle\",\n",
    "    )\n",
    "\n",
    "    # Now, let's evaluate our player\n",
    "    await max_damage_player.battle_against(random_player, n_battles=100)\n",
    "\n",
    "    print(\n",
    "        \"Max damage player won %d / 100 battles [this took %f seconds]\"\n",
    "        % (\n",
    "            max_damage_player.n_won_battles, time.time() - start\n",
    "        )\n",
    "    )\n",
    "\n",
    "#    if __name__ == \"__main__\":\n",
    "#        asyncio.get_event_loop().run_until_complete(main())"
   ]
  },
  {
   "cell_type": "code",
   "execution_count": 4,
   "id": "e4c9dfab",
   "metadata": {},
   "outputs": [
    {
     "name": "stdout",
     "output_type": "stream",
     "text": [
      "Max damage player won 91 / 100 battles [this took 18.204147 seconds]\n"
     ]
    }
   ],
   "source": [
    "await main()"
   ]
  },
  {
   "cell_type": "code",
   "execution_count": null,
   "id": "a3288561",
   "metadata": {},
   "outputs": [],
   "source": []
  }
 ],
 "metadata": {
  "kernelspec": {
   "display_name": "Python 3 (ipykernel)",
   "language": "python",
   "name": "python3"
  },
  "language_info": {
   "codemirror_mode": {
    "name": "ipython",
    "version": 3
   },
   "file_extension": ".py",
   "mimetype": "text/x-python",
   "name": "python",
   "nbconvert_exporter": "python",
   "pygments_lexer": "ipython3",
   "version": "3.7.3"
  }
 },
 "nbformat": 4,
 "nbformat_minor": 5
}
