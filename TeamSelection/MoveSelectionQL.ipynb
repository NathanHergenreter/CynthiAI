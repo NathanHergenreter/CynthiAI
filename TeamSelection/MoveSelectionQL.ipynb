{
 "cells": [
  {
   "cell_type": "code",
   "execution_count": 30,
   "id": "b699cf75",
   "metadata": {},
   "outputs": [],
   "source": [
    "import json\n",
    "import os\n",
    "import sys\n",
    "\n",
    "module_path = os.path.abspath(os.path.join('..'))\n",
    "if module_path not in sys.path:\n",
    "    sys.path.append(module_path)\n",
    "    \n",
    "from Data.Learnset import *\n",
    "from Data.Pokedex import *\n",
    "\n",
    "table_record_file_dir = sys.path[0] + '/../TeamSelection/Records/MoveSelectionTable.json'"
   ]
  },
  {
   "cell_type": "code",
   "execution_count": 31,
   "id": "2461a8fa",
   "metadata": {},
   "outputs": [],
   "source": [
    "# Returns existing move selection table recorded as json\n",
    "# If no json exists, returns empty dictionary\n",
    "def get_move_selection_table():\n",
    "    try:\n",
    "        with open(table_record_file_dir, 'r') as file:\n",
    "            moveSelectionTable = json.load(file)\n",
    "    except IOError as e:\n",
    "        moveSelectionTable = dict()\n",
    "        \n",
    "    return moveSelectionTable"
   ]
  },
  {
   "cell_type": "code",
   "execution_count": 33,
   "id": "b6c7cecf",
   "metadata": {},
   "outputs": [],
   "source": [
    "def record_move_selection_table(table):\n",
    "    with open(table_record_file_dir, 'w') as file:\n",
    "        json.dump(table, file)"
   ]
  },
  {
   "cell_type": "code",
   "execution_count": 36,
   "id": "44acee3c",
   "metadata": {},
   "outputs": [],
   "source": [
    "def reset_move_selection_table_record():\n",
    "    record_move_selection_table(dict())"
   ]
  },
  {
   "cell_type": "code",
   "execution_count": 37,
   "id": "0fbf37ae",
   "metadata": {},
   "outputs": [
    {
     "data": {
      "text/plain": [
       "{}"
      ]
     },
     "execution_count": 37,
     "metadata": {},
     "output_type": "execute_result"
    }
   ],
   "source": [
    "test_dict = dict()\n",
    "test_dict['bulbasaur'] = []\n",
    "test_dict['bulbasaur'].append({\n",
    "    'vine_whip': 10\n",
    "})\n",
    "test_dict['bulbasaur'].append({\n",
    "    'leech_seed': 50\n",
    "})\n",
    "\n",
    "record_move_selection_table(test_dict)\n",
    "get_move_selection_table()\n",
    "reset_move_selection_table_record()\n",
    "get_move_selection_table()"
   ]
  }
 ],
 "metadata": {
  "kernelspec": {
   "display_name": "Python 3 (ipykernel)",
   "language": "python",
   "name": "python3"
  },
  "language_info": {
   "codemirror_mode": {
    "name": "ipython",
    "version": 3
   },
   "file_extension": ".py",
   "mimetype": "text/x-python",
   "name": "python",
   "nbconvert_exporter": "python",
   "pygments_lexer": "ipython3",
   "version": "3.7.3"
  }
 },
 "nbformat": 4,
 "nbformat_minor": 5
}
