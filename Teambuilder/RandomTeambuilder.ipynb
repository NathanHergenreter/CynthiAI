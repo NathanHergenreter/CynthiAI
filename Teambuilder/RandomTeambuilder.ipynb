{
 "cells": [
  {
   "cell_type": "code",
   "execution_count": 1,
   "id": "23f97e1e",
   "metadata": {},
   "outputs": [],
   "source": [
    "import random\n",
    "import numpy as np\n",
    "\n",
    "import os\n",
    "import sys\n",
    "\n",
    "module_path = os.path.abspath(os.path.join('..'))\n",
    "if module_path not in sys.path:\n",
    "    sys.path.append(module_path)"
   ]
  },
  {
   "cell_type": "code",
   "execution_count": 2,
   "id": "97a004cd",
   "metadata": {},
   "outputs": [],
   "source": [
    "from AbstractTeambuilder import AbstractTeambuilder\n",
    "\n",
    "from TeamSelectionTable.AbilitySelectionQTable import *\n",
    "from TeamSelectionTable.ItemSelectionQTable import *\n",
    "from TeamSelectionTable.MoveSelectionQTable import *\n",
    "from TeamSelectionTable.NatureSelectionQTable import *\n",
    "from TeamSelectionTable.PokemonSelectionQTable import *"
   ]
  },
  {
   "cell_type": "code",
   "execution_count": 10,
   "id": "8d710c9e",
   "metadata": {},
   "outputs": [],
   "source": [
    "class RandomTeambuilder(AbstractTeambuilder):\n",
    "    \n",
    "    @staticmethod\n",
    "    def RandomTeam():\n",
    "        pokemon_team = []\n",
    "        \n",
    "        for i in range(6):\n",
    "            pokemon_team.append(random_pokemon)\n",
    "            \n",
    "        return CombineTeam(pokemon_team)\n",
    "    \n",
    "    def RandomPokemon(self):\n",
    "        pokemon_list = get_pokemon()\n",
    "        pokemonArr = np.asarray(list(pokemon_list))\n",
    "        pokemon = pokemonArr[random.randint(0, len(pokemon_list) - 1)]\n",
    "        pokemon_dex = get_dex_pokemon(pokemon)\n",
    "        \n",
    "        gender = AbstractTeambuilder.RandomGender(pokemon_dex)\n",
    "        item = self.RandomItem(pokemon)\n",
    "        ability = self.RandomAbility(pokemon_dex)\n",
    "        evs = self.RandomEVs()\n",
    "        nature = self.RandomNature()\n",
    "        moves = self.RandomMoves(pokemon)\n",
    "        \n",
    "        return self.GetPokemonString(pokemon_dex['name'], gender, item, ability, evs, nature, moves)\n",
    "    \n",
    "    @staticmethod\n",
    "    def RandomItem(pokemon):\n",
    "        items = get_items()\n",
    "        itemsArr = np.asarray(list(items))\n",
    "        \n",
    "        randomItemIdx = random.randint(0,len(items) - 1)\n",
    "        while 'itemUser' in itemsArr[randomItemIdx] and pokemon.lower().title() not in itemsArr[randomItemIdx]['itemUser']:\n",
    "            randomItemIdx = (randomItemIdx + 1) % len(items)\n",
    "        \n",
    "        return itemsArr[randomItemIdx]['name']\n",
    "    \n",
    "    @staticmethod\n",
    "    def RandomAbility(pokemon_dex):\n",
    "        abilities = pokemon_dex['abilities']\n",
    "        abilitiesKeys = abilities.keys()\n",
    "        abilitiesKeysArr = np.asarray(list(abilitiesKeys))\n",
    "        \n",
    "        return abilities[abilitiesKeysArr[random.randint(0,len(abilitiesKeys) - 1)]]\n",
    "        \n",
    "    @staticmethod\n",
    "    def RandomEVs():\n",
    "        evs = AbstractTeambuilder.GetEVsDict()\n",
    "        evKeys = evs.keys()\n",
    "        evKeysArr = np.asarray(list(evKeys))\n",
    "        ev1 = random.randint(0,len(evKeys) - 1)\n",
    "        ev2 = random.randint(0,len(evKeys) - 1)\n",
    "        ev2 = ev2 if ev1 != ev2 else (ev2 + 1) % 6\n",
    "        \n",
    "        evs[evKeysArr[ev1]] = 252\n",
    "        evs[evKeysArr[ev2]] = 252\n",
    "        \n",
    "        return evs\n",
    "    \n",
    "    @staticmethod\n",
    "    def RandomNature():\n",
    "        natures = get_natures()\n",
    "        naturesArr = np.asarray(list(natures))\n",
    "        \n",
    "        return naturesArr[random.randint(0,len(natures) - 1)]\n",
    "    \n",
    "    @staticmethod\n",
    "    def RandomMoves(pokemon):\n",
    "        moves_names_dict = get_moves_names()\n",
    "        learnset = get_learnset(pokemon)\n",
    "        learnsetArr = np.asarray(list(learnset))\n",
    "        \n",
    "        # Edge case - pokemon learns less than four moves\n",
    "        if(len(learnset) < 4):\n",
    "            return learnset\n",
    "        \n",
    "        moves = []\n",
    "        for i in range(4):\n",
    "            randomMoveIdx = random.randint(0, len(learnset) - 1)\n",
    "            randomMove = learnsetArr[randomMoveIdx]\n",
    "            while randomMove in moves:\n",
    "                randomMoveIdx = (randomMoveIdx + 1) % len(learnset)\n",
    "                randomMove = learnsetArr[randomMoveIdx]\n",
    "          \n",
    "            moves.append(moves_names_dict[learnsetArr[randomMoveIdx]])\n",
    "            \n",
    "        return moves\n",
    "    \n",
    "    def yield_team(self):\n",
    "        return RandomTeam()"
   ]
  },
  {
   "cell_type": "code",
   "execution_count": 36,
   "id": "ed021fba",
   "metadata": {
    "scrolled": true
   },
   "outputs": [
    {
     "name": "stdout",
     "output_type": "stream",
     "text": [
      "Bronzor (N) @ Shell Bell\n",
      "Ability: Heatproof\n",
      "EVs: 252 SpA / 252 Def\n",
      "Lax Nature\n",
      "- Rock Slide\n",
      "- Safeguard\n",
      "- Safeguard\n",
      "- Protect\n",
      "\n"
     ]
    }
   ],
   "source": [
    "teambuilder = RandomTeambuilder()\n",
    "print(teambuilder.RandomPokemon())"
   ]
  },
  {
   "cell_type": "code",
   "execution_count": 11,
   "id": "9faae297",
   "metadata": {},
   "outputs": [
    {
     "name": "stdout",
     "output_type": "stream",
     "text": [
      "dict_keys(['M', 'F'])\n",
      "['M' 'F']\n",
      "0.875\n"
     ]
    }
   ],
   "source": [
    "mon = get_dex_pokemon('bulbasaur')\n",
    "genders = mon['genderRatio'].keys()\n",
    "print(genders)\n",
    "gendersArr = np.asarray(list(genders))\n",
    "print(gendersArr)\n",
    "print(mon['genderRatio'][gendersArr[0]])"
   ]
  }
 ],
 "metadata": {
  "kernelspec": {
   "display_name": "Python 3 (ipykernel)",
   "language": "python",
   "name": "python3"
  },
  "language_info": {
   "codemirror_mode": {
    "name": "ipython",
    "version": 3
   },
   "file_extension": ".py",
   "mimetype": "text/x-python",
   "name": "python",
   "nbconvert_exporter": "python",
   "pygments_lexer": "ipython3",
   "version": "3.7.3"
  }
 },
 "nbformat": 4,
 "nbformat_minor": 5
}
