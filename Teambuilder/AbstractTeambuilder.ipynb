{
 "cells": [
  {
   "cell_type": "code",
   "execution_count": 3,
   "id": "427eae2b",
   "metadata": {},
   "outputs": [],
   "source": [
    "import os\n",
    "import sys\n",
    "\n",
    "module_path = os.path.abspath(os.path.join('..'))\n",
    "if module_path not in sys.path:\n",
    "    sys.path.append(module_path)"
   ]
  },
  {
   "cell_type": "code",
   "execution_count": 5,
   "id": "9863935f",
   "metadata": {},
   "outputs": [],
   "source": [
    "from poke_env.teambuilder.teambuilder import Teambuilder\n",
    "\n",
    "from TeamSelectionTable.MoveSelectionQTable import *\n",
    "from TeamSelectionTable.PokemonSelectionQTable import *"
   ]
  },
  {
   "cell_type": "code",
   "execution_count": 25,
   "id": "538f0617",
   "metadata": {},
   "outputs": [],
   "source": [
    "class AbstractTeambuilder(Teambuilder):\n",
    "    @staticmethod\n",
    "    def GetEVsDict():\n",
    "        return { 'HP': 0, 'Atk': 0, 'SpA': 0, 'Def': 0, 'SpD': 0, 'Spe': 0 }\n",
    "    \n",
    "    @staticmethod\n",
    "    def GetPokemonString(pokemon, gender, item, ability, evs, nature, moves):\n",
    "        pokemonString = ''\n",
    "        pokemonString += pokemon.lower().capitalize()\n",
    "        pokemonString += ' ' + '(' + gender.capitalize() + ')'\n",
    "        pokemonString += ' @ ' + item.lower().capitalize() + '\\n'\n",
    "        \n",
    "        pokemonString += 'Ability: ' + ability.lower().title() + '\\n'\n",
    "        \n",
    "        pokemonString += 'EVs:'\n",
    "        if(evs['HP'] > 0): pokemonString += ' ' + str(evs['HP']) + ' HP'\n",
    "        if(evs['Atk'] > 0): pokemonString += ' / ' + str(evs['Atk']) + ' Atk'\n",
    "        if(evs['SpA'] > 0): pokemonString += ' / ' + str(evs['SpA']) + ' SpA'\n",
    "        if(evs['Def'] > 0): pokemonString += ' / ' + str(evs['Def']) + ' Def'\n",
    "        if(evs['SpD'] > 0): pokemonString += ' / ' + str(evs['SpD']) + ' SpD'\n",
    "        if(evs['Spe'] > 0): pokemonString += ' / ' + str(evs['Spe']) + ' Spe'\n",
    "        pokemonString += '\\n'\n",
    "            \n",
    "        pokemonString += nature.capitalize() + ' Nature\\n'\n",
    "        \n",
    "        pokemonString += '- ' + moves[0].lower().title() + '\\n'\n",
    "        pokemonString += '- ' + moves[1].lower().title() + '\\n'\n",
    "        pokemonString += '- ' + moves[2].lower().title() + '\\n'\n",
    "        pokemonString += '- ' + moves[3].lower().title() + '\\n'\n",
    "        \n",
    "        return pokemonString\n",
    "        \n",
    "    @staticmethod\n",
    "    def CombineTeam(pokemon):\n",
    "        teamString = ''\n",
    "        for mon in pokemon:\n",
    "            teamString += '\\n' + mon\n",
    "            \n",
    "    def yield_team():\n",
    "        return ''"
   ]
  },
  {
   "cell_type": "code",
   "execution_count": 26,
   "id": "00755f8c",
   "metadata": {},
   "outputs": [
    {
     "name": "stdout",
     "output_type": "stream",
     "text": [
      "Venasaur (M) @ Leftovers\n",
      "Ability: Overgrow\n",
      "EVs: 252 HP / 252 SpD\n",
      "Rash Nature\n",
      "- Vine Whip\n",
      "- Solar Beam\n",
      "- Leech Seed\n",
      "- Blizzard\n",
      "\n"
     ]
    }
   ],
   "source": [
    "teambuilder = AbstractTeambuilder()\n",
    "\n",
    "evs = teambuilder.GetEVsDict()\n",
    "evs['HP'] = 252\n",
    "evs['SpD'] = 252\n",
    "\n",
    "moves = ['Vine Whip', 'solar beam', 'Leech Seed', 'BLIZZARD']\n",
    "\n",
    "print(teambuilder.GetPokemonString('venasaur', 'm', 'leftovers', 'overgrow', evs, 'rash', moves))"
   ]
  }
 ],
 "metadata": {
  "kernelspec": {
   "display_name": "Python 3 (ipykernel)",
   "language": "python",
   "name": "python3"
  },
  "language_info": {
   "codemirror_mode": {
    "name": "ipython",
    "version": 3
   },
   "file_extension": ".py",
   "mimetype": "text/x-python",
   "name": "python",
   "nbconvert_exporter": "python",
   "pygments_lexer": "ipython3",
   "version": "3.7.3"
  }
 },
 "nbformat": 4,
 "nbformat_minor": 5
}
