{
 "cells": [
  {
   "cell_type": "code",
   "execution_count": 1,
   "id": "09374292",
   "metadata": {},
   "outputs": [],
   "source": [
    "import json"
   ]
  },
  {
   "cell_type": "code",
   "execution_count": 2,
   "id": "648295f0",
   "metadata": {},
   "outputs": [],
   "source": [
    "def get_types():\n",
    "    file = open('typeChart.json')\n",
    "    typesDict = json.load(file)\n",
    "    file.close()\n",
    "    return typesDict"
   ]
  },
  {
   "cell_type": "code",
   "execution_count": 22,
   "id": "0a66dfa6",
   "metadata": {},
   "outputs": [],
   "source": [
    "def get_type(typ):\n",
    "    typeKey = typ.lower().capitalize()\n",
    "    typesDict = get_types()\n",
    "    for typeDict in typesDict:\n",
    "        if typeDict['name'] == typeKey:\n",
    "            return typeDict\n",
    "        \n",
    "    return typesDict[0]"
   ]
  },
  {
   "cell_type": "code",
   "execution_count": 39,
   "id": "67e6f821",
   "metadata": {},
   "outputs": [],
   "source": [
    "def get_type_effectiveness(typeOf, typeTarget):\n",
    "    typeOfDict = get_type(typeOf)\n",
    "    typeTargetDict = get_type(typeTarget)\n",
    "    \n",
    "    effectiveness = 1\n",
    "    if typeTargetDict['name'] in typeOfDict['immunes']:\n",
    "        effectiveness = 0\n",
    "    elif typeTargetDict['name'] in typeOfDict['weaknesses']:\n",
    "        effectiveness = 0.5\n",
    "    elif typeTargetDict['name'] in typeOfDict['strengths']:\n",
    "        effectiveness = 2\n",
    "        \n",
    "    return effectiveness\n",
    "\n",
    "def get_type_effectiveness_two(typeOf, typeTarget1, typeTarget2):\n",
    "    return get_type_effectiveness(typeOf, typeTarget1) * get_type_effectiveness(typeOf, typeTarget2)"
   ]
  },
  {
   "cell_type": "code",
   "execution_count": 48,
   "id": "c5629f79",
   "metadata": {},
   "outputs": [],
   "source": [
    "def get_type_weakness(typesOf, typesOpponent):\n",
    "    weakness = 1\n",
    "    for typeOf in typesOf:\n",
    "        for typeOpponent in typesOpponent:\n",
    "            weakness *= get_type_effectiveness(typeOpponent, typeOf)\n",
    "            \n",
    "    return weakness"
   ]
  }
 ],
 "metadata": {
  "kernelspec": {
   "display_name": "Python 3 (ipykernel)",
   "language": "python",
   "name": "python3"
  },
  "language_info": {
   "codemirror_mode": {
    "name": "ipython",
    "version": 3
   },
   "file_extension": ".py",
   "mimetype": "text/x-python",
   "name": "python",
   "nbconvert_exporter": "python",
   "pygments_lexer": "ipython3",
   "version": "3.7.3"
  }
 },
 "nbformat": 4,
 "nbformat_minor": 5
}
