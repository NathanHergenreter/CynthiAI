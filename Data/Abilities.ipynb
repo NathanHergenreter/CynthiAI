{
 "cells": [
  {
   "cell_type": "code",
   "execution_count": 1,
   "id": "e8a4c23b",
   "metadata": {},
   "outputs": [],
   "source": [
    "import json"
   ]
  },
  {
   "cell_type": "code",
   "execution_count": 2,
   "id": "f5d34dee",
   "metadata": {},
   "outputs": [],
   "source": [
    "def get_abilities():\n",
    "    file = open('abilities.json')\n",
    "    abilitiesDict = json.load(file)\n",
    "    file.close()\n",
    "    return abilitiesDict"
   ]
  },
  {
   "cell_type": "code",
   "execution_count": 14,
   "id": "d7cb6d27",
   "metadata": {},
   "outputs": [
    {
     "name": "stdout",
     "output_type": "stream",
     "text": [
      "[{'name': 'Adaptability'}, {'name': 'Aerilate'}, {'name': 'Aftermath'}, {'name': 'Air Lock'}, {'name': 'Analytic'}, {'name': 'Anger Point'}, {'name': 'Anticipation'}, {'name': 'Aqua Boost'}, {'name': 'Arena Trap'}, {'name': 'Aroma Veil'}, {'name': 'As One'}, {'name': 'As One'}, {'name': 'Aura Break'}, {'name': 'Bad Dreams'}, {'name': 'Ball Fetch'}, {'name': 'Battery'}, {'name': 'Battle Armor'}, {'name': 'Battle Bond'}, {'name': 'Beast Boost'}, {'name': 'Berserk'}, {'name': 'Big Pecks'}, {'name': 'Black Hole'}, {'name': 'Blaze'}, {'name': 'Bodyguard'}, {'name': 'Bonanza'}, {'name': 'Bulletproof'}, {'name': 'Calming'}, {'name': 'Celebrate'}, {'name': 'Cheek Pouch'}, {'name': 'Chilling Neigh'}, {'name': 'Chlorophyll'}, {'name': 'Clear Body'}, {'name': 'Climber'}, {'name': 'Cloud Nine'}, {'name': 'Color Change'}, {'name': 'Comatose'}, {'name': 'Competitive'}, {'name': 'Compound Eyes'}, {'name': 'Confidence'}, {'name': 'Conqueror'}, {'name': 'Contrary'}, {'name': 'Corrosion'}, {'name': 'Cotton Down'}, {'name': 'Curious Medicine'}, {'name': 'Cursed Body'}, {'name': 'Cute Charm'}, {'name': 'Damp'}, {'name': 'Dancer'}, {'name': 'Dark Aura'}, {'name': 'Dauntless Shield'}, {'name': 'Daze'}, {'name': 'Dazzling'}, {'name': 'Decoy'}, {'name': 'Deep Sleep'}, {'name': 'Defeatist'}, {'name': 'Defiant'}, {'name': 'Delta Stream'}, {'name': 'Desolate Land'}, {'name': 'Disguise'}, {'name': 'Disgust'}, {'name': 'Dodge'}, {'name': 'Download'}, {'name': 'Dragons Maw'}, {'name': 'Drizzle'}, {'name': 'Drought'}, {'name': 'Dry Skin'}, {'name': 'Early Bird'}, {'name': 'Effect Spore'}, {'name': 'Electric Surge'}, {'name': 'Emergency Exit'}, {'name': 'Explode'}, {'name': 'Fairy Aura'}, {'name': 'Filter'}, {'name': 'Flame Body'}, {'name': 'Flame Boost'}, {'name': 'Flare Boost'}, {'name': 'Flash Fire'}, {'name': 'Flower Gift'}, {'name': 'Flower Veil'}, {'name': 'Fluffy'}, {'name': 'Forecast'}, {'name': 'Forewarn'}, {'name': 'Fortune'}, {'name': 'Friend Guard'}, {'name': 'Frighten'}, {'name': 'Frisk'}, {'name': 'Frostbite'}, {'name': 'Full Metal Body'}, {'name': 'Fur Coat'}, {'name': 'Gale Wings'}, {'name': 'Galvanize'}, {'name': 'Gluttony'}, {'name': 'Gooey'}, {'name': 'Gorilla Tactics'}, {'name': 'Grass Cloak'}, {'name': 'Grass Pelt'}, {'name': 'Grassy Surge'}, {'name': 'Grim Neigh'}, {'name': 'Gulp'}, {'name': 'Gulp Missile'}, {'name': 'Guts'}, {'name': 'Harvest'}, {'name': 'Healer'}, {'name': 'Heatproof'}, {'name': 'Heavy Metal'}, {'name': 'Herbivore'}, {'name': 'Hero'}, {'name': 'High Rise'}, {'name': 'Honey Gather'}, {'name': 'Hot Blooded'}, {'name': 'Huge Power'}, {'name': 'Hunger Switch'}, {'name': 'Hustle'}, {'name': 'Hydration'}, {'name': 'Hyper Cutter'}, {'name': 'Ice Body'}, {'name': 'Ice Face'}, {'name': 'Ice Scales'}, {'name': 'Illuminate'}, {'name': 'Illusion'}, {'name': 'Immunity'}, {'name': 'Imposter'}, {'name': 'Infiltrator'}, {'name': 'Innards Out'}, {'name': 'Inner Focus'}, {'name': 'Insomnia'}, {'name': 'Instinct'}, {'name': 'Interference'}, {'name': 'Intimidate'}, {'name': 'Intrepid Sword'}, {'name': 'Iron Barbs'}, {'name': 'Iron Fist'}, {'name': 'Jagged Edge'}, {'name': 'Justified'}, {'name': 'Keen Eye'}, {'name': 'Klutz'}, {'name': 'Last Bastion'}, {'name': 'Leaf Guard'}, {'name': 'Levitate'}, {'name': 'Libero'}, {'name': 'Life Force'}, {'name': 'Light Metal'}, {'name': 'Lightning Rod'}, {'name': 'Limber'}, {'name': 'Liquid Ooze'}, {'name': 'Liquid Voice'}, {'name': 'Long Reach'}, {'name': 'Lullaby'}, {'name': 'Lunchbox'}, {'name': 'Magic Bounce'}, {'name': 'Magic Guard'}, {'name': 'Magician'}, {'name': 'Magma Armor'}, {'name': 'Magnet Pull'}, {'name': 'Marvel Scale'}, {'name': 'Medic'}, {'name': 'Mega Launcher'}, {'name': 'Melee'}, {'name': 'Merciless'}, {'name': 'Mimicry'}, {'name': 'Minus'}, {'name': 'Mirror Armor'}, {'name': 'Misty Surge'}, {'name': 'Mold Breaker'}, {'name': 'Mood Maker'}, {'name': 'Moody'}, {'name': 'Motor Drive'}, {'name': 'Mountaineer'}, {'name': 'Moxie'}, {'name': 'Multiscale'}, {'name': 'Multitype'}, {'name': 'Mummy'}, {'name': 'Natural Cure'}, {'name': 'Neuroforce'}, {'name': 'Neutralizing Gas'}, {'name': 'No Guard'}, {'name': 'Nomad'}, {'name': 'Normalize'}, {'name': 'Nurse'}, {'name': 'Oblivious'}, {'name': 'Omnipotent'}, {'name': 'Overcoat'}, {'name': 'Overgrow'}, {'name': 'Own Tempo'}, {'name': 'Parental Bond'}, {'name': 'Parry'}, {'name': 'Pastel Veil'}, {'name': 'Perception'}, {'name': 'Perish Body'}, {'name': 'Pickpocket'}, {'name': 'Pickup'}, {'name': 'Pixilate'}, {'name': 'Plus'}, {'name': 'Poison Heal'}, {'name': 'Poison Point'}, {'name': 'Poison Touch'}, {'name': 'Power Construct'}, {'name': 'Power Nap'}, {'name': 'Power Of Alchemy'}, {'name': 'Power Spot'}, {'name': 'Prankster'}, {'name': 'Pressure'}, {'name': 'Pride'}, {'name': 'Primordial Sea'}, {'name': 'Prism Armor'}, {'name': 'Propeller Tail'}, {'name': 'Protean'}, {'name': 'Psychic Surge'}, {'name': 'Punk Rock'}, {'name': 'Pure Power'}, {'name': 'Queenly Majesty'}, {'name': 'Quick Draw'}, {'name': 'Quick Feet'}, {'name': 'Rain Dish'}, {'name': 'Rattled'}, {'name': 'Receiver'}, {'name': 'Reckless'}, {'name': 'Refrigerate'}, {'name': 'Regenerator'}, {'name': 'Ripen'}, {'name': 'Rivalry'}, {'name': 'Rks System'}, {'name': 'Rock Head'}, {'name': 'Rough Skin'}, {'name': 'Run Away'}, {'name': 'Run Up'}, {'name': 'Sand Force'}, {'name': 'Sand Rush'}, {'name': 'Sand Spit'}, {'name': 'Sand Stream'}, {'name': 'Sand Veil'}, {'name': 'Sandpit'}, {'name': 'Sap Sipper'}, {'name': 'Schooling'}, {'name': 'Scrappy'}, {'name': 'Screen Cleaner'}, {'name': 'Sequence'}, {'name': 'Serene Grace'}, {'name': 'Shackle'}, {'name': 'Shadow Dash'}, {'name': 'Shadow Shield'}, {'name': 'Shadow Tag'}, {'name': 'Share'}, {'name': 'Shed Skin'}, {'name': 'Sheer Force'}, {'name': 'Shell Armor'}, {'name': 'Shield'}, {'name': 'Shield Dust'}, {'name': 'Shields Down'}, {'name': 'Simple'}, {'name': 'Skater'}, {'name': 'Skill Link'}, {'name': 'Slow Start'}, {'name': 'Slush Rush'}, {'name': 'Sniper'}, {'name': 'Snow Cloak'}, {'name': 'Snow Warning'}, {'name': 'Solar Power'}, {'name': 'Solid Rock'}, {'name': 'Soul Heart'}, {'name': 'Soundproof'}, {'name': 'Speed Boost'}, {'name': 'Spirit'}, {'name': 'Sponge'}, {'name': 'Sprint'}, {'name': 'Stakeout'}, {'name': 'Stall'}, {'name': 'Stalwart'}, {'name': 'Stamina'}, {'name': 'Stance Change'}, {'name': 'Static'}, {'name': 'Steadfast'}, {'name': 'Stealth'}, {'name': 'Steam Engine'}, {'name': 'Steelworker'}, {'name': 'Steely Spirit'}, {'name': 'Stench'}, {'name': 'Sticky Hold'}, {'name': 'Storm Drain'}, {'name': 'Strong Jaw'}, {'name': 'Sturdy'}, {'name': 'Suction Cups'}, {'name': 'Super Luck'}, {'name': 'Surge Surfer'}, {'name': 'Swarm'}, {'name': 'Sweet Veil'}, {'name': 'Swift Swim'}, {'name': 'Symbiosis'}, {'name': 'Synchronize'}, {'name': 'Tangled Feet'}, {'name': 'Tangling Hair'}, {'name': 'Technician'}, {'name': 'Telepathy'}, {'name': 'Tenacity'}, {'name': 'Teravolt'}, {'name': 'Thick Fat'}, {'name': 'Thrust'}, {'name': 'Tinted Lens'}, {'name': 'Torrent'}, {'name': 'Tough Claws'}, {'name': 'Toxic Boost'}, {'name': 'Trace'}, {'name': 'Transistor'}, {'name': 'Triage'}, {'name': 'Truant'}, {'name': 'Turboblaze'}, {'name': 'Unaware'}, {'name': 'Unburden'}, {'name': 'Unnerve'}, {'name': 'Unseen Fist'}, {'name': 'Vanguard'}, {'name': 'Victory Star'}, {'name': 'Vital Spirit'}, {'name': 'Volt Absorb'}, {'name': 'Wandering Spirit'}, {'name': 'Warm Blanket'}, {'name': 'Water Absorb'}, {'name': 'Water Bubble'}, {'name': 'Water Compaction'}, {'name': 'Water Veil'}, {'name': 'Wave Rider'}, {'name': 'Weak Armor'}, {'name': 'White Smoke'}, {'name': 'Wimp Out'}, {'name': 'Wonder Guard'}, {'name': 'Wonder Skin'}, {'name': 'Zen Mode'}]\n"
     ]
    }
   ],
   "source": [
    "results = get_abilities()\n",
    "\n",
    "new_abilities = []\n",
    "for ability in results:\n",
    "    new_ability = ' '.join(ability['name'].split('-'))\n",
    "    new_abilities.append({'name': new_ability.title()})\n",
    "    \n",
    "new_abilities.sort(key=lambda x:x['name'])\n",
    "print(new_abilities)\n",
    "\n",
    "with open('abilities.json', 'w') as file:\n",
    "    json.dump(new_abilities, file)"
   ]
  }
 ],
 "metadata": {
  "kernelspec": {
   "display_name": "Python 3 (ipykernel)",
   "language": "python",
   "name": "python3"
  },
  "language_info": {
   "codemirror_mode": {
    "name": "ipython",
    "version": 3
   },
   "file_extension": ".py",
   "mimetype": "text/x-python",
   "name": "python",
   "nbconvert_exporter": "python",
   "pygments_lexer": "ipython3",
   "version": "3.7.3"
  }
 },
 "nbformat": 4,
 "nbformat_minor": 5
}
