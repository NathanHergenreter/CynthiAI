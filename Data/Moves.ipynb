{
 "cells": [
  {
   "cell_type": "code",
   "execution_count": 1,
   "id": "a17537b1",
   "metadata": {},
   "outputs": [],
   "source": [
    "import json"
   ]
  },
  {
   "cell_type": "code",
   "execution_count": 3,
   "id": "09469af5",
   "metadata": {},
   "outputs": [],
   "source": [
    "def get_moves():\n",
    "    file = open('moves.json')\n",
    "    movesDict = json.load(file)\n",
    "    file.close()\n",
    "    return movesDict"
   ]
  },
  {
   "cell_type": "code",
   "execution_count": 6,
   "id": "d88c767b",
   "metadata": {},
   "outputs": [],
   "source": [
    "def get_move(move):\n",
    "    file = open('moves.json')\n",
    "    movesDict = json.load(file)\n",
    "    file.close()\n",
    "    return movesDict[move.lower()]"
   ]
  },
  {
   "cell_type": "code",
   "execution_count": 10,
   "id": "dcf47d36",
   "metadata": {},
   "outputs": [],
   "source": [
    "def get_moves_names():\n",
    "    file = open('moves.json')\n",
    "    movesDict = json.load(file)\n",
    "    file.close()\n",
    "    return movesDict.keys()"
   ]
  }
 ],
 "metadata": {
  "kernelspec": {
   "display_name": "Python 3 (ipykernel)",
   "language": "python",
   "name": "python3"
  },
  "language_info": {
   "codemirror_mode": {
    "name": "ipython",
    "version": 3
   },
   "file_extension": ".py",
   "mimetype": "text/x-python",
   "name": "python",
   "nbconvert_exporter": "python",
   "pygments_lexer": "ipython3",
   "version": "3.7.3"
  }
 },
 "nbformat": 4,
 "nbformat_minor": 5
}
