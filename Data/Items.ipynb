{
 "cells": [
  {
   "cell_type": "code",
   "execution_count": 1,
   "id": "d78a4e39",
   "metadata": {},
   "outputs": [],
   "source": [
    "import json"
   ]
  },
  {
   "cell_type": "code",
   "execution_count": 2,
   "id": "3c30a384",
   "metadata": {},
   "outputs": [],
   "source": [
    "def get_items():\n",
    "    file = open('items.json')\n",
    "    itemsDict = json.load(file)\n",
    "    file.close()\n",
    "    return itemsDict"
   ]
  },
  {
   "cell_type": "code",
   "execution_count": 3,
   "id": "12172a1c",
   "metadata": {},
   "outputs": [
    {
     "name": "stdout",
     "output_type": "stream",
     "text": [
      "[{'name': 'Abomasite', 'itemUser': ['Abomasnow']}, {'name': 'Absolite', 'itemUser': ['Absol']}, {'name': 'Absorb Bulb'}, {'name': 'Adamant Orb', 'itemUser': ['Dialga']}, {'name': 'Adrenaline Orb'}, {'name': 'Aerodactylite', 'itemUser': ['Aerodactyl']}, {'name': 'Aggronite', 'itemUser': ['Aggron']}, {'name': 'Aguav Berry'}, {'name': 'Air Balloon'}, {'name': 'Alakazite', 'itemUser': ['Alakazam']}, {'name': 'Altarianite', 'itemUser': ['Altaria']}, {'name': 'Ampharosite', 'itemUser': ['Ampharos']}, {'name': 'Apicot Berry'}, {'name': 'Armor Fossil'}, {'name': 'Aspear Berry'}, {'name': 'Assault Vest'}, {'name': 'Audinite', 'itemUser': ['Audino']}, {'name': 'Babiri Berry'}, {'name': 'Banettite', 'itemUser': ['Banette']}, {'name': 'Beedrillite', 'itemUser': ['Beedrill']}, {'name': 'Belue Berry'}, {'name': 'Berry'}, {'name': 'Berry Juice'}, {'name': 'Berry Sweet'}, {'name': 'Berserk Gene'}, {'name': 'Big Root'}, {'name': 'Binding Band'}, {'name': 'Bitter Berry'}, {'name': 'Black Belt'}, {'name': 'Black Glasses'}, {'name': 'Black Sludge'}, {'name': 'Blastoisinite', 'itemUser': ['Blastoise']}, {'name': 'Blazikenite', 'itemUser': ['Blaziken']}, {'name': 'Blue Orb', 'itemUser': ['Kyogre']}, {'name': 'Bluk Berry'}, {'name': 'Blunder Policy'}, {'name': 'Bottle Cap'}, {'name': 'Bright Powder'}, {'name': 'Bug Gem'}, {'name': 'Bug Memory', 'itemUser': ['Silvally-Bug']}, {'name': 'Burn Drive', 'itemUser': ['Genesect-Burn']}, {'name': 'Burnt Berry'}, {'name': 'Cameruptite', 'itemUser': ['Camerupt']}, {'name': 'Cell Battery'}, {'name': 'Charcoal'}, {'name': 'Charizardite X', 'itemUser': ['Charizard']}, {'name': 'Charizardite Y', 'itemUser': ['Charizard']}, {'name': 'Charti Berry'}, {'name': 'Cheri Berry'}, {'name': 'Chesto Berry'}, {'name': 'Chilan Berry'}, {'name': 'Chill Drive', 'itemUser': ['Genesect-Chill']}, {'name': 'Chipped Pot'}, {'name': 'Choice Band'}, {'name': 'Choice Scarf'}, {'name': 'Choice Specs'}, {'name': 'Chople Berry'}, {'name': 'Claw Fossil'}, {'name': 'Clover Sweet'}, {'name': 'Coba Berry'}, {'name': 'Colbur Berry'}, {'name': 'Cornn Berry'}, {'name': 'Cover Fossil'}, {'name': 'Cracked Pot'}, {'name': 'Crucibellite', 'itemUser': ['Crucibelle']}, {'name': 'Custap Berry'}, {'name': 'Damp Rock'}, {'name': 'Dark Gem'}, {'name': 'Dark Memory', 'itemUser': ['Silvally-Dark']}, {'name': 'Dawn Stone'}, {'name': 'Deep Sea Scale', 'itemUser': ['Clamperl']}, {'name': 'Deep Sea Tooth', 'itemUser': ['Clamperl']}, {'name': 'Destiny Knot'}, {'name': 'Diancite', 'itemUser': ['Diancie']}, {'name': 'Dome Fossil'}, {'name': 'Douse Drive', 'itemUser': ['Genesect-Douse']}, {'name': 'Draco Plate'}, {'name': 'Dragon Fang'}, {'name': 'Dragon Gem'}, {'name': 'Dragon Memory', 'itemUser': ['Silvally-Dragon']}, {'name': 'Dragon Scale'}, {'name': 'Dread Plate'}, {'name': 'Dubious Disc'}, {'name': 'Durin Berry'}, {'name': 'Dusk Stone'}, {'name': 'Earth Plate'}, {'name': 'Eject Button'}, {'name': 'Eject Pack'}, {'name': 'Electirizer'}, {'name': 'Electric Gem'}, {'name': 'Electric Memory', 'itemUser': ['Silvally-Electric']}, {'name': 'Electric Seed'}, {'name': 'Energy Powder'}, {'name': 'Enigma Berry'}, {'name': 'Eviolite'}, {'name': 'Expert Belt'}, {'name': 'Fairy Gem'}, {'name': 'Fairy Memory', 'itemUser': ['Silvally-Fairy']}, {'name': 'Fighting Gem'}, {'name': 'Fighting Memory', 'itemUser': ['Silvally-Fighting']}, {'name': 'Figy Berry'}, {'name': 'Fire Gem'}, {'name': 'Fire Memory', 'itemUser': ['Silvally-Fire']}, {'name': 'Fire Stone'}, {'name': 'Fist Plate'}, {'name': 'Flame Orb'}, {'name': 'Flame Plate'}, {'name': 'Float Stone'}, {'name': 'Flower Sweet'}, {'name': 'Flying Gem'}, {'name': 'Flying Memory', 'itemUser': ['Silvally-Flying']}, {'name': 'Focus Band'}, {'name': 'Focus Sash'}, {'name': 'Fossilized Bird'}, {'name': 'Fossilized Dino'}, {'name': 'Fossilized Drake'}, {'name': 'Fossilized Fish'}, {'name': 'Full Incense'}, {'name': 'Galarica Cuff'}, {'name': 'Galarica Wreath'}, {'name': 'Galladite', 'itemUser': ['Gallade']}, {'name': 'Ganlon Berry'}, {'name': 'Garchompite', 'itemUser': ['Garchomp']}, {'name': 'Gardevoirite', 'itemUser': ['Gardevoir']}, {'name': 'Gengarite', 'itemUser': ['Gengar']}, {'name': 'Ghost Gem'}, {'name': 'Ghost Memory', 'itemUser': ['Silvally-Ghost']}, {'name': 'Glalitite', 'itemUser': ['Glalie']}, {'name': 'Gold Berry'}, {'name': 'Gold Bottle Cap'}, {'name': 'Grass Gem'}, {'name': 'Grass Memory', 'itemUser': ['Silvally-Grass']}, {'name': 'Grassy Seed'}, {'name': 'Grepa Berry'}, {'name': 'Grip Claw'}, {'name': 'Griseous Orb', 'itemUser': ['Giratina-Origin']}, {'name': 'Ground Gem'}, {'name': 'Ground Memory', 'itemUser': ['Silvally-Ground']}, {'name': 'Gyaradosite', 'itemUser': ['Gyarados']}, {'name': 'Haban Berry'}, {'name': 'Hard Stone'}, {'name': 'Heat Rock'}, {'name': 'Heavy-Duty Boots'}, {'name': 'Helix Fossil'}, {'name': 'Heracronite', 'itemUser': ['Heracross']}, {'name': 'Hondew Berry'}, {'name': 'Houndoominite', 'itemUser': ['Houndoom']}, {'name': 'Iapapa Berry'}, {'name': 'Ice Berry'}, {'name': 'Ice Gem'}, {'name': 'Ice Memory', 'itemUser': ['Silvally-Ice']}, {'name': 'Ice Stone'}, {'name': 'Icicle Plate'}, {'name': 'Icy Rock'}, {'name': 'Insect Plate'}, {'name': 'Iron Ball'}, {'name': 'Iron Plate'}, {'name': 'Jaboca Berry'}, {'name': 'Jaw Fossil'}, {'name': 'Kangaskhanite', 'itemUser': ['Kangaskhan']}, {'name': 'Kasib Berry'}, {'name': 'Kebia Berry'}, {'name': 'Kee Berry'}, {'name': 'Kelpsy Berry'}, {'name': \"King's Rock\"}, {'name': 'Lagging Tail'}, {'name': 'Lansat Berry'}, {'name': 'Latiasite', 'itemUser': ['Latias']}, {'name': 'Latiosite', 'itemUser': ['Latios']}, {'name': 'Lax Incense'}, {'name': 'Leaf Stone'}, {'name': 'Leek', 'itemUser': ['Farfetchâ€™d', 'Farfetchâ€™d-Galar', 'Sirfetchâ€™d']}, {'name': 'Leftovers'}, {'name': 'Leppa Berry'}, {'name': 'Liechi Berry'}, {'name': 'Life Orb'}, {'name': 'Light Ball', 'itemUser': ['Pikachu', 'Pikachu-Cosplay', 'Pikachu-Rock-Star', 'Pikachu-Belle', 'Pikachu-Pop-Star', 'Pikachu-PhD', 'Pikachu-Libre', 'Pikachu-Original', 'Pikachu-Hoenn', 'Pikachu-Sinnoh', 'Pikachu-Unova', 'Pikachu-Kalos', 'Pikachu-Alola', 'Pikachu-Partner', 'Pikachu-Starter', 'Pikachu-World']}, {'name': 'Light Clay'}, {'name': 'Lopunnite', 'itemUser': ['Lopunny']}, {'name': 'Love Sweet'}, {'name': 'Lucarionite', 'itemUser': ['Lucario']}, {'name': 'Lucky Punch', 'itemUser': ['Chansey']}, {'name': 'Lum Berry'}, {'name': 'Luminous Moss'}, {'name': 'Lustrous Orb', 'itemUser': ['Palkia']}, {'name': 'Macho Brace'}, {'name': 'Magmarizer'}, {'name': 'Magnet'}, {'name': 'Mago Berry'}, {'name': 'Magost Berry'}, {'name': 'Mail'}, {'name': 'Manectite', 'itemUser': ['Manectric']}, {'name': 'Maranga Berry'}, {'name': 'Mawilite', 'itemUser': ['Mawile']}, {'name': 'Meadow Plate'}, {'name': 'Medichamite', 'itemUser': ['Medicham']}, {'name': 'Mental Herb'}, {'name': 'Metagrossite', 'itemUser': ['Metagross']}, {'name': 'Metal Coat'}, {'name': 'Metal Powder', 'itemUser': ['Ditto']}, {'name': 'Metronome'}, {'name': 'Mewtwonite X', 'itemUser': ['Mewtwo']}, {'name': 'Mewtwonite Y', 'itemUser': ['Mewtwo']}, {'name': 'Micle Berry'}, {'name': 'Mind Plate'}, {'name': 'Mint Berry'}, {'name': 'Miracle Berry'}, {'name': 'Miracle Seed'}, {'name': 'Misty Seed'}, {'name': 'Moon Stone'}, {'name': 'Muscle Band'}, {'name': 'Mystery Berry'}, {'name': 'Mystic Water'}, {'name': 'Nanab Berry'}, {'name': 'Never-Melt Ice'}, {'name': 'Nomel Berry'}, {'name': 'Normal Gem'}, {'name': 'Occa Berry'}, {'name': 'Odd Incense'}, {'name': 'Old Amber'}, {'name': 'Oran Berry'}, {'name': 'Oval Stone'}, {'name': 'PRZ Cure Berry'}, {'name': 'PSN Cure Berry'}, {'name': 'Pamtre Berry'}, {'name': 'Passho Berry'}, {'name': 'Payapa Berry'}, {'name': 'Pecha Berry'}, {'name': 'Persim Berry'}, {'name': 'Petaya Berry'}, {'name': 'Pidgeotite', 'itemUser': ['Pidgeot']}, {'name': 'Pinap Berry'}, {'name': 'Pink Bow'}, {'name': 'Pinsirite', 'itemUser': ['Pinsir']}, {'name': 'Pixie Plate'}, {'name': 'Plume Fossil'}, {'name': 'Poison Barb'}, {'name': 'Poison Gem'}, {'name': 'Poison Memory', 'itemUser': ['Silvally-Poison']}, {'name': 'Polkadot Bow'}, {'name': 'Pomeg Berry'}, {'name': 'Power Anklet'}, {'name': 'Power Band'}, {'name': 'Power Belt'}, {'name': 'Power Bracer'}, {'name': 'Power Herb'}, {'name': 'Power Lens'}, {'name': 'Power Weight'}, {'name': 'Prism Scale'}, {'name': 'Protective Pads'}, {'name': 'Protector'}, {'name': 'Psychic Gem'}, {'name': 'Psychic Memory', 'itemUser': ['Silvally-Psychic']}, {'name': 'Psychic Seed'}, {'name': 'Qualot Berry'}, {'name': 'Quick Claw'}, {'name': 'Quick Powder', 'itemUser': ['Ditto']}, {'name': 'Rabuta Berry'}, {'name': 'Rare Bone'}, {'name': 'Rawst Berry'}, {'name': 'Razor Claw'}, {'name': 'Razor Fang'}, {'name': 'Razz Berry'}, {'name': 'Reaper Cloth'}, {'name': 'Red Card'}, {'name': 'Red Orb', 'itemUser': ['Groudon']}, {'name': 'Ribbon Sweet'}, {'name': 'Rindo Berry'}, {'name': 'Ring Target'}, {'name': 'Rock Gem'}, {'name': 'Rock Incense'}, {'name': 'Rock Memory', 'itemUser': ['Silvally-Rock']}, {'name': 'Rocky Helmet'}, {'name': 'Room Service'}, {'name': 'Root Fossil'}, {'name': 'Rose Incense'}, {'name': 'Roseli Berry'}, {'name': 'Rowap Berry'}, {'name': 'Rusted Shield', 'itemUser': ['Zamazenta-Crowned']}, {'name': 'Rusted Sword', 'itemUser': ['Zacian-Crowned']}, {'name': 'Sablenite', 'itemUser': ['Sableye']}, {'name': 'Sachet'}, {'name': 'Safety Goggles'}, {'name': 'Sail Fossil'}, {'name': 'Salac Berry'}, {'name': 'Salamencite', 'itemUser': ['Salamence']}, {'name': 'Sceptilite', 'itemUser': ['Sceptile']}, {'name': 'Scizorite', 'itemUser': ['Scizor']}, {'name': 'Scope Lens'}, {'name': 'Sea Incense'}, {'name': 'Sharp Beak'}, {'name': 'Sharpedonite', 'itemUser': ['Sharpedo']}, {'name': 'Shed Shell'}, {'name': 'Shell Bell'}, {'name': 'Shiny Stone'}, {'name': 'Shock Drive', 'itemUser': ['Genesect-Shock']}, {'name': 'Shuca Berry'}, {'name': 'Silk Scarf'}, {'name': 'Silver Powder'}, {'name': 'Sitrus Berry'}, {'name': 'Skull Fossil'}, {'name': 'Sky Plate'}, {'name': 'Slowbronite', 'itemUser': ['Slowbro']}, {'name': 'Smooth Rock'}, {'name': 'Snowball'}, {'name': 'Soft Sand'}, {'name': 'Soul Dew', 'itemUser': ['Latios', 'Latias']}, {'name': 'Spell Tag'}, {'name': 'Spelon Berry'}, {'name': 'Splash Plate'}, {'name': 'Spooky Plate'}, {'name': 'Star Sweet'}, {'name': 'Starf Berry'}, {'name': 'Steel Gem'}, {'name': 'Steel Memory', 'itemUser': ['Silvally-Steel']}, {'name': 'Steelixite', 'itemUser': ['Steelix']}, {'name': 'Stick', 'itemUser': ['Farfetchâ€™d']}, {'name': 'Sticky Barb'}, {'name': 'Stone Plate'}, {'name': 'Strawberry Sweet'}, {'name': 'Sun Stone'}, {'name': 'Swampertite', 'itemUser': ['Swampert']}, {'name': 'Sweet Apple'}, {'name': 'Tamato Berry'}, {'name': 'Tanga Berry'}, {'name': 'Tart Apple'}, {'name': 'Terrain Extender'}, {'name': 'Thick Club', 'itemUser': ['Marowak', 'Marowak-Alola', 'Marowak-Alola-Totem', 'Cubone']}, {'name': 'Throat Spray'}, {'name': 'Thunder Stone'}, {'name': 'Toxic Orb'}, {'name': 'Toxic Plate'}, {'name': 'Twisted Spoon'}, {'name': 'Tyranitarite', 'itemUser': ['Tyranitar']}, {'name': 'Up-Grade'}, {'name': 'Utility Umbrella'}, {'name': 'Venusaurite', 'itemUser': ['Venusaur']}, {'name': 'Wacan Berry'}, {'name': 'Water Gem'}, {'name': 'Water Memory', 'itemUser': ['Silvally-Water']}, {'name': 'Water Stone'}, {'name': 'Watmel Berry'}, {'name': 'Wave Incense'}, {'name': 'Weakness Policy'}, {'name': 'Wepear Berry'}, {'name': 'Whipped Dream'}, {'name': 'White Herb'}, {'name': 'Wide Lens'}, {'name': 'Wiki Berry'}, {'name': 'Wise Glasses'}, {'name': 'Yache Berry'}, {'name': 'Zap Plate'}, {'name': 'Zoom Lens'}]\n"
     ]
    }
   ],
   "source": [
    "file = open('itemsFull.json')\n",
    "itemsFullDict = json.load(file)\n",
    "file.close()\n",
    "\n",
    "results = itemsFullDict[0]\n",
    "keys = list(results.keys())\n",
    "#print(results[keys[0]])\n",
    "\n",
    "new_items = []\n",
    "for item in results.keys():\n",
    "    itemObj = results[item]\n",
    "    if itemObj.get('isPokeball') or itemObj.get('zMove') or (itemObj['name'][0] == 'T' and itemObj['name'][1] == 'R' and len(itemObj['name']) <= 5):\n",
    "        continue\n",
    "    \n",
    "    new_item = dict()\n",
    "    new_item['name'] = itemObj['name']\n",
    "    if itemObj.get('itemUser'):\n",
    "        new_item['itemUser'] = itemObj['itemUser']\n",
    "    new_items.append(new_item)\n",
    "    \n",
    "new_items.sort(key=lambda x:x['name'])\n",
    "print(new_items)\n",
    "\n",
    "with open('items.json', 'w') as file:\n",
    "    json.dump(new_items, file)"
   ]
  }
 ],
 "metadata": {
  "kernelspec": {
   "display_name": "Python 3 (ipykernel)",
   "language": "python",
   "name": "python3"
  },
  "language_info": {
   "codemirror_mode": {
    "name": "ipython",
    "version": 3
   },
   "file_extension": ".py",
   "mimetype": "text/x-python",
   "name": "python",
   "nbconvert_exporter": "python",
   "pygments_lexer": "ipython3",
   "version": "3.7.3"
  }
 },
 "nbformat": 4,
 "nbformat_minor": 5
}
