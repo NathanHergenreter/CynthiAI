{
 "cells": [
  {
   "cell_type": "code",
   "execution_count": 1,
   "id": "0790cd61",
   "metadata": {},
   "outputs": [],
   "source": [
    "import json\n",
    "import os.path"
   ]
  },
  {
   "cell_type": "code",
   "execution_count": 19,
   "id": "345e2487",
   "metadata": {},
   "outputs": [],
   "source": [
    "def get_learnset_full():\n",
    "    file = open('learnset.json')\n",
    "    learnsetDict = json.load(file)\n",
    "    file.close()\n",
    "    return learnsetDict"
   ]
  },
  {
   "cell_type": "code",
   "execution_count": 20,
   "id": "3e6a1690",
   "metadata": {},
   "outputs": [],
   "source": [
    "def get_learnset(pokemon):\n",
    "    file = open('learnset.json')\n",
    "    learnsetDict = json.load(file)\n",
    "    file.close()\n",
    "    return learnsetDict[pokemon.lower()]['learnset'].keys()"
   ]
  }
 ],
 "metadata": {
  "kernelspec": {
   "display_name": "Python 3 (ipykernel)",
   "language": "python",
   "name": "python3"
  },
  "language_info": {
   "codemirror_mode": {
    "name": "ipython",
    "version": 3
   },
   "file_extension": ".py",
   "mimetype": "text/x-python",
   "name": "python",
   "nbconvert_exporter": "python",
   "pygments_lexer": "ipython3",
   "version": "3.7.3"
  }
 },
 "nbformat": 4,
 "nbformat_minor": 5
}
