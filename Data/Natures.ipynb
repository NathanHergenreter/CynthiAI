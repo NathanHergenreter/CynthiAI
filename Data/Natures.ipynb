{
 "cells": [
  {
   "cell_type": "code",
   "execution_count": 1,
   "id": "2f4bb199",
   "metadata": {},
   "outputs": [],
   "source": [
    "import json"
   ]
  },
  {
   "cell_type": "code",
   "execution_count": 4,
   "id": "4d0e0170",
   "metadata": {},
   "outputs": [],
   "source": [
    "def get_natures():\n",
    "    return get_natures_full().keys()"
   ]
  },
  {
   "cell_type": "code",
   "execution_count": 5,
   "id": "46218a4b",
   "metadata": {},
   "outputs": [],
   "source": [
    "def get_natures_full():\n",
    "    file = open('natures.json')\n",
    "    naturesDict = json.load(file)\n",
    "    file.close()\n",
    "    return naturesDict"
   ]
  }
 ],
 "metadata": {
  "kernelspec": {
   "display_name": "Python 3 (ipykernel)",
   "language": "python",
   "name": "python3"
  },
  "language_info": {
   "codemirror_mode": {
    "name": "ipython",
    "version": 3
   },
   "file_extension": ".py",
   "mimetype": "text/x-python",
   "name": "python",
   "nbconvert_exporter": "python",
   "pygments_lexer": "ipython3",
   "version": "3.7.3"
  }
 },
 "nbformat": 4,
 "nbformat_minor": 5
}
