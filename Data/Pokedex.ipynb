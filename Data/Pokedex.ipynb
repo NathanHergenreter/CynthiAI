{
 "cells": [
  {
   "cell_type": "code",
   "execution_count": 1,
   "id": "b6033e07",
   "metadata": {},
   "outputs": [],
   "source": [
    "import json"
   ]
  },
  {
   "cell_type": "code",
   "execution_count": 2,
   "id": "b705ca38",
   "metadata": {},
   "outputs": [],
   "source": [
    "def get_dex():\n",
    "    file = open('pokedex.json')\n",
    "    dexDict = json.load(file)\n",
    "    file.close()\n",
    "    return dexDict"
   ]
  },
  {
   "cell_type": "code",
   "execution_count": 17,
   "id": "fcdd7912",
   "metadata": {},
   "outputs": [],
   "source": [
    "def get_dex_pokemon(pokemon):\n",
    "    file = open('pokedex.json')\n",
    "    dexDict = json.load(file)\n",
    "    file.close()\n",
    "    return dexDict[pokemon.lower()]"
   ]
  },
  {
   "cell_type": "code",
   "execution_count": 15,
   "id": "ec451fb0",
   "metadata": {},
   "outputs": [],
   "source": [
    "def extraneous_form(form):\n",
    "    return form == 'Alola' or form == 'Galar'\n",
    "\n",
    "def get_pokemon():\n",
    "    file = open('pokedex.json')\n",
    "    dexDict = json.load(file)\n",
    "    file.close()\n",
    "    \n",
    "    filteredDex = dict()\n",
    "    for key, value in dexDict.items():\n",
    "        isValid = value['num'] > 0\n",
    "        # Checks if form is not regional, if so does not add to filtered dex\n",
    "        if 'forme' in value:\n",
    "            isValid = isValid and extraneous_form(value['forme'])\n",
    "        if isValid:\n",
    "            filteredDex[key] = value\n",
    "                \n",
    "    return filteredDex.keys()"
   ]
  }
 ],
 "metadata": {
  "kernelspec": {
   "display_name": "Python 3 (ipykernel)",
   "language": "python",
   "name": "python3"
  },
  "language_info": {
   "codemirror_mode": {
    "name": "ipython",
    "version": 3
   },
   "file_extension": ".py",
   "mimetype": "text/x-python",
   "name": "python",
   "nbconvert_exporter": "python",
   "pygments_lexer": "ipython3",
   "version": "3.7.3"
  }
 },
 "nbformat": 4,
 "nbformat_minor": 5
}
