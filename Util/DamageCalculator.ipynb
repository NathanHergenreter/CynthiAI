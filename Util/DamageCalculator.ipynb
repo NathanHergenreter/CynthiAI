{
 "cells": [
  {
   "cell_type": "code",
   "execution_count": 2,
   "id": "98af482a",
   "metadata": {},
   "outputs": [],
   "source": [
    "import os\n",
    "import sys\n",
    "\n",
    "module_path = os.path.abspath(os.path.join('..'))\n",
    "if module_path not in sys.path:\n",
    "    sys.path.append(module_path)"
   ]
  },
  {
   "cell_type": "code",
   "execution_count": 9,
   "id": "85c3a59a",
   "metadata": {},
   "outputs": [],
   "source": [
    "from poke_env.environment.weather import *\n",
    "from StatCalculator import *\n",
    "from Data.TypeChart import *"
   ]
  },
  {
   "cell_type": "code",
   "execution_count": 10,
   "id": "779e4375",
   "metadata": {},
   "outputs": [],
   "source": [
    "# Returns amount of damage as a ratio of lost hp to target's full hp\n",
    "def damage_calc_approx(user, userDex, target, targetDex, level, move, weather):\n",
    "    power = move['basePower']\n",
    "    \n",
    "    atkBase = userDex['baseStats']['atk'] if move['category'] == 'Physical' else userDex['baseStats']['spa']\n",
    "    atkEv = user['evs']['atk'] if move['category'] == 'Physical' else user['evs']['spa']\n",
    "    atkIv = user['ivs']['atk'] if move['category'] == 'Physical' else user['ivs']['spa']\n",
    "    atk = non_hp_stat_calc(atkBase, atkEv, atkIv, level, atkNatureVal)\n",
    "    \n",
    "    defBase = targetDex['baseStats']['def'] if move['category'] == 'Physical' else targetDex['baseStats']['spd']\n",
    "    defEv = target['evs']['def'] if move['category'] == 'Physical' else target['evs']['spd']\n",
    "    defIv = target['ivs']['def'] if move['category'] == 'Physical' else target['ivs']['spd']\n",
    "    dfn = non_hp_stat_calc(defBase, defEv, defIv, level, defNatureVal)\n",
    "    \n",
    "    weatherEff = weather_effect(weather, move['type'])\n",
    "    stab = 1.5 if move['type'] in user['types'] else 1.0\n",
    "    typeEff = get_type_weakness(targetDex['types'], [move['type']])\n",
    "    \n",
    "    hp = hp_stat_calc(targetDex['baseStats']['hp'], target['evs']['hp'], target['ivs']['hp'], level)\n",
    "    \n",
    "    dmg = (( (((2 * level) / 5) + 2) * power * atk/dfn ) / 50) * weatherEff * stab * typeEff\n",
    "    \n",
    "    return dmg / hp"
   ]
  },
  {
   "cell_type": "code",
   "execution_count": 11,
   "id": "a306cb03",
   "metadata": {},
   "outputs": [],
   "source": [
    "def weather_effect(weather, moveType):\n",
    "    if weather == RAINDANCE:\n",
    "        if moveType == 'Water':\n",
    "            return 1.5\n",
    "        elif moveType == 'Fire':\n",
    "            return 0.5\n",
    "    elif weather == SUNNYDAY:\n",
    "        if moveType == 'Fire':\n",
    "            return 1.5\n",
    "        elif moveType == 'Water':\n",
    "            return 0.5\n",
    "        \n",
    "    return 1.0"
   ]
  }
 ],
 "metadata": {
  "kernelspec": {
   "display_name": "Python 3 (ipykernel)",
   "language": "python",
   "name": "python3"
  },
  "language_info": {
   "codemirror_mode": {
    "name": "ipython",
    "version": 3
   },
   "file_extension": ".py",
   "mimetype": "text/x-python",
   "name": "python",
   "nbconvert_exporter": "python",
   "pygments_lexer": "ipython3",
   "version": "3.7.3"
  }
 },
 "nbformat": 4,
 "nbformat_minor": 5
}
