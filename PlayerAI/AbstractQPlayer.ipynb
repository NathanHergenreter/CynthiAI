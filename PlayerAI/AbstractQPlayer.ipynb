{
 "cells": [
  {
   "cell_type": "code",
   "execution_count": 1,
   "id": "dc24a5f9",
   "metadata": {},
   "outputs": [],
   "source": [
    "import os\n",
    "import sys\n",
    "import abc\n",
    "\n",
    "module_path = os.path.abspath(os.path.join('..'))\n",
    "if module_path not in sys.path:\n",
    "    sys.path.append(module_path)"
   ]
  },
  {
   "cell_type": "code",
   "execution_count": 2,
   "id": "c8f382dd",
   "metadata": {},
   "outputs": [],
   "source": [
    "from poke_env.player.player import Player"
   ]
  },
  {
   "cell_type": "code",
   "execution_count": null,
   "id": "a3991564",
   "metadata": {},
   "outputs": [],
   "source": [
    "class AbstractQPlayer(Player):\n",
    "    \n",
    "    def __init__(self, qTables, rewardDict):\n",
    "        super(AbstractQPlayer, self).__init__()\n",
    "        self.qTables = qTables\n",
    "        self.rewardDict = rewardDict\n",
    "        self.prevAction = dict()\n",
    "        self.prevStateReward = 0\n",
    "\n",
    "    @staticmethod\n",
    "    def generic_rewards():\n",
    "        return { 'hp': 1.0, 'alive': 5.0, 'status': 0.5, 'boost': 0.5 }\n",
    "\n",
    "    @abc.abstractmethod\n",
    "    def compute_state_reward(self, battle):\n",
    "        for mon in battle.team.values():\n",
    "            current_value += mon.current_hp_fraction * rewardDict['hp']\n",
    "            if not mon.fainted:\n",
    "                current_value += rewardDict['alive']\n",
    "            else:\n",
    "                if mon.status is None:\n",
    "                    current_value += rewardDict['status']\n",
    "                for value in mon.boosts.values():\n",
    "                    current_value += value * rewardDict['boost']\n",
    "\n",
    "        for mon in battle.opponent_team.values():\n",
    "            current_value -= mon.current_hp_fraction * rewardDict['hp']\n",
    "            if not mon.fainted:\n",
    "                current_value -= rewardDict['alive']\n",
    "            else:\n",
    "                if mon.status is None:\n",
    "                    current_value -= rewardDict['status']\n",
    "                for value in mon.boosts.values():\n",
    "                    current_value -= value * rewardDict['boost']\n",
    "                \n",
    "        \n",
    "    @abc.abstractmethod\n",
    "    def update_table_last_action:\n",
    "        qTables[prevAction['table']].update(prevAction['key'], rewardNew)\n",
    "        "
   ]
  }
 ],
 "metadata": {
  "kernelspec": {
   "display_name": "Python 3 (ipykernel)",
   "language": "python",
   "name": "python3"
  },
  "language_info": {
   "codemirror_mode": {
    "name": "ipython",
    "version": 3
   },
   "file_extension": ".py",
   "mimetype": "text/x-python",
   "name": "python",
   "nbconvert_exporter": "python",
   "pygments_lexer": "ipython3",
   "version": "3.7.3"
  }
 },
 "nbformat": 4,
 "nbformat_minor": 5
}
